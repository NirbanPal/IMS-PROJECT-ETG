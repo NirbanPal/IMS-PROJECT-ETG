{
  "nbformat": 4,
  "nbformat_minor": 0,
  "metadata": {
    "colab": {
      "name": "Selling Products ETG A(1).ipynb",
      "provenance": []
    },
    "kernelspec": {
      "name": "python3",
      "display_name": "Python 3"
    },
    "language_info": {
      "name": "python"
    }
  },
  "cells": [
    {
      "cell_type": "code",
      "metadata": {
        "id": "vTHwadLYjZ4j"
      },
      "source": [
        "fd=open(\"frecord.json\",\"r\")\n",
        "txt=fd.read()\n",
        "fd.close()"
      ],
      "execution_count": 171,
      "outputs": []
    },
    {
      "cell_type": "code",
      "metadata": {
        "colab": {
          "base_uri": "https://localhost:8080/",
          "height": 191
        },
        "id": "MtMxSichmEXM",
        "outputId": "165755a1-356c-43bb-9a6a-437450d39b60"
      },
      "source": [
        "txt  #I write it for my understanding to read the file in text format,you can remove this line also"
      ],
      "execution_count": 172,
      "outputs": [
        {
          "output_type": "execute_result",
          "data": {
            "application/vnd.google.colaboratory.intrinsic+json": {
              "type": "string"
            },
            "text/plain": [
              "'{\"1001\": {\"name\": \"milk\", \"product company\": \"amul\", \"price\": 25, \"quantity\": 400, \"fassi certified\": \"yes\"}, \"1002\": {\"name\": \"pop corn\", \"product company\": \"act2\", \"price\": 40, \"quantity\": 280, \"fassi certified\": \"no\"}, \"1003\": {\"name\": \"chocolate\", \"product company\": \"amul\", \"price\": 50, \"quantity\": 500, \"fassi certified\": \"yes\"}, \"1004\": {\"name\": \"drinks\", \"product company\": \"cocacola\", \"price\": 35, \"quantity\": 180, \"fassi certified\": \"yes\"}, \"1005\": {\"name\": \"butter\", \"product company\": \"amulya\", \"price\": 40, \"quantity\": 250, \"fassi certified\": \"yes\"}, \"1006\": {\"name\": \"kurkure\", \"product company\": \"kurkure\", \"price\": 20, \"quantity\": 580, \"fassi certified\": \"yes\"}, \"1007\": {\"name\": \"momo\", \"product company\": \"wow momo\", \"price\": 15, \"quantity\": 400, \"fassi certified\": \"yes\"}, \"1008\": {\"name\": \"burger\", \"product company\": \"wow momo\", \"price\": 70, \"quantity\": 345, \"fassi certified\": \"yes\"}, \"1009\": {\"name\": \"biscuit\", \"product company\": \"britania\", \"price\": 25, \"quantity\": 280, \"fassi certified\": \"yes\"}, \"1010\": {\"name\": \"almond\", \"product company\": \"trismania\", \"price\": 200, \"quantity\": 500, \"fassi certified\": \"yes\"}, \"1011\": {\"name\": \"cake\", \"product company\": \"winkis\", \"price\": 10, \"quantity\": 550, \"fassi certified\": \"yes\"}, \"1012\": {\"name\": \"rice\", \"product company\": \"india gate\", \"price\": 175, \"quantity\": 310, \"fassi certified\": \"yes\"}, \"1013\": {\"name\": \"salt\", \"product company\": \"tata\", \"price\": 35, \"quantity\": 550, \"fassi certified\": \"yes\"}, \"1014\": {\"name\": \"garam masala\", \"product company\": \"cookme\", \"price\": 15, \"quantity\": 470, \"fassi certified\": \"yes\"}, \"1015\": {\"name\": \"horlicks\", \"product company\": \"nestle\", \"price\": 45, \"quantity\": 220, \"fassi certified\": \"yes\"}, \"1016\": {\"name\": \"coffee\", \"product company\": \"nestle\", \"price\": 50, \"quantity\": 400, \"fassi certified\": \"yes\"}, \"1017\": {\"name\": \"tea\", \"product company\": \"tata\", \"price\": 60, \"quantity\": 390, \"fassi certified\": \"yes\"}, \"1018\": {\"name\": \"curd\", \"product company\": \"amul\", \"price\": 25, \"quantity\": 500, \"fassi certified\": \"yes\"}, \"1019\": {\"name\": \"fruit juice\", \"product company\": \"tropicana\", \"price\": 100, \"quantity\": 340, \"fassi certified\": \"yes\"}, \"1020\": {\"name\": \"sugar\", \"product company\": \"tata\", \"price\": 55, \"quantity\": 294, \"fassi certified\": \"yes\"}, \"1021\": {\"name\": \"lays\", \"product company\": \"lays\", \"price\": 10, \"quantity\": 400, \"fassi certified\": \"yes\"}, \"1022\": {\"name\": \"bingo\", \"product company\": \"bingo\", \"price\": 15, \"quantity\": 372, \"fassi certified\": \"yes\"}, \"1023\": {\"name\": \"mysore pak\", \"product company\": \"mysore p\", \"price\": 50, \"quantity\": 440, \"fassi certified\": \"yes\"}, \"1024\": {\"name\": \"icecream\", \"product company\": \"amul\", \"price\": 50, \"quantity\": 370, \"fassi certified\": \"yes\"}, \"1025\": {\"name\": \"pizza\", \"product company\": \"dominos\", \"price\": 100, \"quantity\": 440, \"fassi certified\": \"yes\"}, \"1026\": {\"name\": \"maggi\", \"product company\": \"maggi\", \"price\": 15, \"quantity\": 70, \"fassi certified\": \"yes\"}, \"1027\": {\"name\": \"soabin\", \"product company\": \"nutrela\", \"price\": 100, \"quantity\": 70, \"fassi certified\": \"yes\"}, \"1028\": {\"name\": \"noodles\", \"product company\": \"panda\", \"price\": 30, \"quantity\": 70, \"fassi certified\": \"yes\"}, \"1029\": {\"name\": \"sauces\", \"product company\": \"kissan\", \"price\": 45, \"quantity\": 140, \"fassi certified\": \"yes\"}, \"1030\": {\"name\": \"peanutbutter\", \"product company\": \"sundrop\", \"price\": 300, \"quantity\": 60, \"fassi certified\": \"yes\"}, \"1031\": {\"name\": \"mayonnise\", \"product company\": \"grofers\", \"price\": 140, \"quantity\": 110, \"fassi certified\": \"yes\"}, \"1032\": {\"name\": \"pasta\", \"product company\": \"maggi\", \"price\": 90, \"quantity\": 140, \"fassi certified\": \"yes\"}, \"1033\": {\"name\": \"honey\", \"product company\": \"baidyanath\", \"price\": 300, \"quantity\": 40, \"fassi certified\": \"yes\"}, \"1034\": {\"name\": \"chyawanprash\", \"product company\": \"baidyanath\", \"price\": 200, \"quantity\": 75, \"fassi certified\": \"yes\"}, \"1035\": {\"name\": \"custard oil\", \"product company\": \"sundrop\", \"price\": 300, \"quantity\": 120, \"fassi certified\": \"yes\"}}'"
            ]
          },
          "metadata": {},
          "execution_count": 172
        }
      ]
    },
    {
      "cell_type": "code",
      "metadata": {
        "colab": {
          "base_uri": "https://localhost:8080/"
        },
        "id": "xi8iC8QUl3LM",
        "outputId": "2ff2294c-5b8d-4b6c-d422-08395a8d7e9a"
      },
      "source": [
        "import json\n",
        "records=json.loads(txt)\n",
        "records #I write it for my understanding to review the data in dict format.you can remove this line also"
      ],
      "execution_count": 173,
      "outputs": [
        {
          "output_type": "execute_result",
          "data": {
            "text/plain": [
              "{'1001': {'fassi certified': 'yes',\n",
              "  'name': 'milk',\n",
              "  'price': 25,\n",
              "  'product company': 'amul',\n",
              "  'quantity': 400},\n",
              " '1002': {'fassi certified': 'no',\n",
              "  'name': 'pop corn',\n",
              "  'price': 40,\n",
              "  'product company': 'act2',\n",
              "  'quantity': 280},\n",
              " '1003': {'fassi certified': 'yes',\n",
              "  'name': 'chocolate',\n",
              "  'price': 50,\n",
              "  'product company': 'amul',\n",
              "  'quantity': 500},\n",
              " '1004': {'fassi certified': 'yes',\n",
              "  'name': 'drinks',\n",
              "  'price': 35,\n",
              "  'product company': 'cocacola',\n",
              "  'quantity': 180},\n",
              " '1005': {'fassi certified': 'yes',\n",
              "  'name': 'butter',\n",
              "  'price': 40,\n",
              "  'product company': 'amulya',\n",
              "  'quantity': 250},\n",
              " '1006': {'fassi certified': 'yes',\n",
              "  'name': 'kurkure',\n",
              "  'price': 20,\n",
              "  'product company': 'kurkure',\n",
              "  'quantity': 580},\n",
              " '1007': {'fassi certified': 'yes',\n",
              "  'name': 'momo',\n",
              "  'price': 15,\n",
              "  'product company': 'wow momo',\n",
              "  'quantity': 400},\n",
              " '1008': {'fassi certified': 'yes',\n",
              "  'name': 'burger',\n",
              "  'price': 70,\n",
              "  'product company': 'wow momo',\n",
              "  'quantity': 345},\n",
              " '1009': {'fassi certified': 'yes',\n",
              "  'name': 'biscuit',\n",
              "  'price': 25,\n",
              "  'product company': 'britania',\n",
              "  'quantity': 280},\n",
              " '1010': {'fassi certified': 'yes',\n",
              "  'name': 'almond',\n",
              "  'price': 200,\n",
              "  'product company': 'trismania',\n",
              "  'quantity': 500},\n",
              " '1011': {'fassi certified': 'yes',\n",
              "  'name': 'cake',\n",
              "  'price': 10,\n",
              "  'product company': 'winkis',\n",
              "  'quantity': 550},\n",
              " '1012': {'fassi certified': 'yes',\n",
              "  'name': 'rice',\n",
              "  'price': 175,\n",
              "  'product company': 'india gate',\n",
              "  'quantity': 310},\n",
              " '1013': {'fassi certified': 'yes',\n",
              "  'name': 'salt',\n",
              "  'price': 35,\n",
              "  'product company': 'tata',\n",
              "  'quantity': 550},\n",
              " '1014': {'fassi certified': 'yes',\n",
              "  'name': 'garam masala',\n",
              "  'price': 15,\n",
              "  'product company': 'cookme',\n",
              "  'quantity': 470},\n",
              " '1015': {'fassi certified': 'yes',\n",
              "  'name': 'horlicks',\n",
              "  'price': 45,\n",
              "  'product company': 'nestle',\n",
              "  'quantity': 220},\n",
              " '1016': {'fassi certified': 'yes',\n",
              "  'name': 'coffee',\n",
              "  'price': 50,\n",
              "  'product company': 'nestle',\n",
              "  'quantity': 400},\n",
              " '1017': {'fassi certified': 'yes',\n",
              "  'name': 'tea',\n",
              "  'price': 60,\n",
              "  'product company': 'tata',\n",
              "  'quantity': 390},\n",
              " '1018': {'fassi certified': 'yes',\n",
              "  'name': 'curd',\n",
              "  'price': 25,\n",
              "  'product company': 'amul',\n",
              "  'quantity': 500},\n",
              " '1019': {'fassi certified': 'yes',\n",
              "  'name': 'fruit juice',\n",
              "  'price': 100,\n",
              "  'product company': 'tropicana',\n",
              "  'quantity': 340},\n",
              " '1020': {'fassi certified': 'yes',\n",
              "  'name': 'sugar',\n",
              "  'price': 55,\n",
              "  'product company': 'tata',\n",
              "  'quantity': 294},\n",
              " '1021': {'fassi certified': 'yes',\n",
              "  'name': 'lays',\n",
              "  'price': 10,\n",
              "  'product company': 'lays',\n",
              "  'quantity': 400},\n",
              " '1022': {'fassi certified': 'yes',\n",
              "  'name': 'bingo',\n",
              "  'price': 15,\n",
              "  'product company': 'bingo',\n",
              "  'quantity': 372},\n",
              " '1023': {'fassi certified': 'yes',\n",
              "  'name': 'mysore pak',\n",
              "  'price': 50,\n",
              "  'product company': 'mysore p',\n",
              "  'quantity': 440},\n",
              " '1024': {'fassi certified': 'yes',\n",
              "  'name': 'icecream',\n",
              "  'price': 50,\n",
              "  'product company': 'amul',\n",
              "  'quantity': 370},\n",
              " '1025': {'fassi certified': 'yes',\n",
              "  'name': 'pizza',\n",
              "  'price': 100,\n",
              "  'product company': 'dominos',\n",
              "  'quantity': 440},\n",
              " '1026': {'fassi certified': 'yes',\n",
              "  'name': 'maggi',\n",
              "  'price': 15,\n",
              "  'product company': 'maggi',\n",
              "  'quantity': 70},\n",
              " '1027': {'fassi certified': 'yes',\n",
              "  'name': 'soabin',\n",
              "  'price': 100,\n",
              "  'product company': 'nutrela',\n",
              "  'quantity': 70},\n",
              " '1028': {'fassi certified': 'yes',\n",
              "  'name': 'noodles',\n",
              "  'price': 30,\n",
              "  'product company': 'panda',\n",
              "  'quantity': 70},\n",
              " '1029': {'fassi certified': 'yes',\n",
              "  'name': 'sauces',\n",
              "  'price': 45,\n",
              "  'product company': 'kissan',\n",
              "  'quantity': 140},\n",
              " '1030': {'fassi certified': 'yes',\n",
              "  'name': 'peanutbutter',\n",
              "  'price': 300,\n",
              "  'product company': 'sundrop',\n",
              "  'quantity': 60},\n",
              " '1031': {'fassi certified': 'yes',\n",
              "  'name': 'mayonnise',\n",
              "  'price': 140,\n",
              "  'product company': 'grofers',\n",
              "  'quantity': 110},\n",
              " '1032': {'fassi certified': 'yes',\n",
              "  'name': 'pasta',\n",
              "  'price': 90,\n",
              "  'product company': 'maggi',\n",
              "  'quantity': 140},\n",
              " '1033': {'fassi certified': 'yes',\n",
              "  'name': 'honey',\n",
              "  'price': 300,\n",
              "  'product company': 'baidyanath',\n",
              "  'quantity': 40},\n",
              " '1034': {'fassi certified': 'yes',\n",
              "  'name': 'chyawanprash',\n",
              "  'price': 200,\n",
              "  'product company': 'baidyanath',\n",
              "  'quantity': 75},\n",
              " '1035': {'fassi certified': 'yes',\n",
              "  'name': 'custard oil',\n",
              "  'price': 300,\n",
              "  'product company': 'sundrop',\n",
              "  'quantity': 120}}"
            ]
          },
          "metadata": {},
          "execution_count": 173
        }
      ]
    },
    {
      "cell_type": "code",
      "metadata": {
        "colab": {
          "base_uri": "https://localhost:8080/"
        },
        "id": "MtgnYQmvmswi",
        "outputId": "680e962d-e945-41a8-e172-59988c76696a"
      },
      "source": [
        "import time\n",
        "prod_id=str(input(\"enter the product id:\"))\n",
        "prod_quan=int(input(\"enter quantities:\"))\n",
        "print(\"******bill******\")\n",
        "print(\"your product name:\",records[prod_id][\"name\"])\n",
        "print(\"your product company is:\",records[prod_id][\"product company\"])\n",
        "print(\"your product price per pc:\",records[prod_id][\"price\"])\n",
        "print(\"your quantities:\",prod_quan)\n",
        "print(\"------------------------------------------------------\")\n",
        "print(\"your Total Bill Amount\",prod_quan*records[prod_id][\"price\"])\n",
        "print(time.ctime())\n",
        "print(\"******THANK YOU FOR SHOPPING*****\")"
      ],
      "execution_count": 174,
      "outputs": [
        {
          "output_type": "stream",
          "name": "stdout",
          "text": [
            "enter the product id:1017\n",
            "enter quantities:5\n",
            "******bill******\n",
            "your product name: tea\n",
            "your product company is: tata\n",
            "your product price per pc: 60\n",
            "your quantities: 5\n",
            "------------------------------------------------------\n",
            "your Total Bill Amount 300\n",
            "Sun Sep  5 21:25:18 2021\n",
            "******THANK YOU FOR SHOPPING*****\n"
          ]
        }
      ]
    },
    {
      "cell_type": "code",
      "metadata": {
        "id": "gTq2RJuItSHH"
      },
      "source": [
        "if records[prod_id][\"quantity\"] > prod_quan:\n",
        "  records[prod_id][\"quantity\"]=records[prod_id][\"quantity\"]-prod_quan\n",
        "else:\n",
        "  print(\"out of stock\")\n",
        "  print(\"we have only\",records[prod_id][\"quantity\"],records[prod_id][\"name\"])"
      ],
      "execution_count": 175,
      "outputs": []
    },
    {
      "cell_type": "code",
      "metadata": {
        "colab": {
          "base_uri": "https://localhost:8080/"
        },
        "id": "JriRA9IVtt0w",
        "outputId": "71daf741-6787-493a-d3a1-fe6015695459"
      },
      "source": [
        "records #I write it for my understanding to read the file in dict format,you can remove this line also"
      ],
      "execution_count": 176,
      "outputs": [
        {
          "output_type": "execute_result",
          "data": {
            "text/plain": [
              "{'1001': {'fassi certified': 'yes',\n",
              "  'name': 'milk',\n",
              "  'price': 25,\n",
              "  'product company': 'amul',\n",
              "  'quantity': 400},\n",
              " '1002': {'fassi certified': 'no',\n",
              "  'name': 'pop corn',\n",
              "  'price': 40,\n",
              "  'product company': 'act2',\n",
              "  'quantity': 280},\n",
              " '1003': {'fassi certified': 'yes',\n",
              "  'name': 'chocolate',\n",
              "  'price': 50,\n",
              "  'product company': 'amul',\n",
              "  'quantity': 500},\n",
              " '1004': {'fassi certified': 'yes',\n",
              "  'name': 'drinks',\n",
              "  'price': 35,\n",
              "  'product company': 'cocacola',\n",
              "  'quantity': 180},\n",
              " '1005': {'fassi certified': 'yes',\n",
              "  'name': 'butter',\n",
              "  'price': 40,\n",
              "  'product company': 'amulya',\n",
              "  'quantity': 250},\n",
              " '1006': {'fassi certified': 'yes',\n",
              "  'name': 'kurkure',\n",
              "  'price': 20,\n",
              "  'product company': 'kurkure',\n",
              "  'quantity': 580},\n",
              " '1007': {'fassi certified': 'yes',\n",
              "  'name': 'momo',\n",
              "  'price': 15,\n",
              "  'product company': 'wow momo',\n",
              "  'quantity': 400},\n",
              " '1008': {'fassi certified': 'yes',\n",
              "  'name': 'burger',\n",
              "  'price': 70,\n",
              "  'product company': 'wow momo',\n",
              "  'quantity': 345},\n",
              " '1009': {'fassi certified': 'yes',\n",
              "  'name': 'biscuit',\n",
              "  'price': 25,\n",
              "  'product company': 'britania',\n",
              "  'quantity': 280},\n",
              " '1010': {'fassi certified': 'yes',\n",
              "  'name': 'almond',\n",
              "  'price': 200,\n",
              "  'product company': 'trismania',\n",
              "  'quantity': 500},\n",
              " '1011': {'fassi certified': 'yes',\n",
              "  'name': 'cake',\n",
              "  'price': 10,\n",
              "  'product company': 'winkis',\n",
              "  'quantity': 550},\n",
              " '1012': {'fassi certified': 'yes',\n",
              "  'name': 'rice',\n",
              "  'price': 175,\n",
              "  'product company': 'india gate',\n",
              "  'quantity': 310},\n",
              " '1013': {'fassi certified': 'yes',\n",
              "  'name': 'salt',\n",
              "  'price': 35,\n",
              "  'product company': 'tata',\n",
              "  'quantity': 550},\n",
              " '1014': {'fassi certified': 'yes',\n",
              "  'name': 'garam masala',\n",
              "  'price': 15,\n",
              "  'product company': 'cookme',\n",
              "  'quantity': 470},\n",
              " '1015': {'fassi certified': 'yes',\n",
              "  'name': 'horlicks',\n",
              "  'price': 45,\n",
              "  'product company': 'nestle',\n",
              "  'quantity': 220},\n",
              " '1016': {'fassi certified': 'yes',\n",
              "  'name': 'coffee',\n",
              "  'price': 50,\n",
              "  'product company': 'nestle',\n",
              "  'quantity': 400},\n",
              " '1017': {'fassi certified': 'yes',\n",
              "  'name': 'tea',\n",
              "  'price': 60,\n",
              "  'product company': 'tata',\n",
              "  'quantity': 385},\n",
              " '1018': {'fassi certified': 'yes',\n",
              "  'name': 'curd',\n",
              "  'price': 25,\n",
              "  'product company': 'amul',\n",
              "  'quantity': 500},\n",
              " '1019': {'fassi certified': 'yes',\n",
              "  'name': 'fruit juice',\n",
              "  'price': 100,\n",
              "  'product company': 'tropicana',\n",
              "  'quantity': 340},\n",
              " '1020': {'fassi certified': 'yes',\n",
              "  'name': 'sugar',\n",
              "  'price': 55,\n",
              "  'product company': 'tata',\n",
              "  'quantity': 294},\n",
              " '1021': {'fassi certified': 'yes',\n",
              "  'name': 'lays',\n",
              "  'price': 10,\n",
              "  'product company': 'lays',\n",
              "  'quantity': 400},\n",
              " '1022': {'fassi certified': 'yes',\n",
              "  'name': 'bingo',\n",
              "  'price': 15,\n",
              "  'product company': 'bingo',\n",
              "  'quantity': 372},\n",
              " '1023': {'fassi certified': 'yes',\n",
              "  'name': 'mysore pak',\n",
              "  'price': 50,\n",
              "  'product company': 'mysore p',\n",
              "  'quantity': 440},\n",
              " '1024': {'fassi certified': 'yes',\n",
              "  'name': 'icecream',\n",
              "  'price': 50,\n",
              "  'product company': 'amul',\n",
              "  'quantity': 370},\n",
              " '1025': {'fassi certified': 'yes',\n",
              "  'name': 'pizza',\n",
              "  'price': 100,\n",
              "  'product company': 'dominos',\n",
              "  'quantity': 440},\n",
              " '1026': {'fassi certified': 'yes',\n",
              "  'name': 'maggi',\n",
              "  'price': 15,\n",
              "  'product company': 'maggi',\n",
              "  'quantity': 70},\n",
              " '1027': {'fassi certified': 'yes',\n",
              "  'name': 'soabin',\n",
              "  'price': 100,\n",
              "  'product company': 'nutrela',\n",
              "  'quantity': 70},\n",
              " '1028': {'fassi certified': 'yes',\n",
              "  'name': 'noodles',\n",
              "  'price': 30,\n",
              "  'product company': 'panda',\n",
              "  'quantity': 70},\n",
              " '1029': {'fassi certified': 'yes',\n",
              "  'name': 'sauces',\n",
              "  'price': 45,\n",
              "  'product company': 'kissan',\n",
              "  'quantity': 140},\n",
              " '1030': {'fassi certified': 'yes',\n",
              "  'name': 'peanutbutter',\n",
              "  'price': 300,\n",
              "  'product company': 'sundrop',\n",
              "  'quantity': 60},\n",
              " '1031': {'fassi certified': 'yes',\n",
              "  'name': 'mayonnise',\n",
              "  'price': 140,\n",
              "  'product company': 'grofers',\n",
              "  'quantity': 110},\n",
              " '1032': {'fassi certified': 'yes',\n",
              "  'name': 'pasta',\n",
              "  'price': 90,\n",
              "  'product company': 'maggi',\n",
              "  'quantity': 140},\n",
              " '1033': {'fassi certified': 'yes',\n",
              "  'name': 'honey',\n",
              "  'price': 300,\n",
              "  'product company': 'baidyanath',\n",
              "  'quantity': 40},\n",
              " '1034': {'fassi certified': 'yes',\n",
              "  'name': 'chyawanprash',\n",
              "  'price': 200,\n",
              "  'product company': 'baidyanath',\n",
              "  'quantity': 75},\n",
              " '1035': {'fassi certified': 'yes',\n",
              "  'name': 'custard oil',\n",
              "  'price': 300,\n",
              "  'product company': 'sundrop',\n",
              "  'quantity': 120}}"
            ]
          },
          "metadata": {},
          "execution_count": 176
        }
      ]
    },
    {
      "cell_type": "markdown",
      "metadata": {
        "id": "04MQbB6mvzhH"
      },
      "source": [
        "#update inventory after purchese"
      ]
    },
    {
      "cell_type": "code",
      "metadata": {
        "id": "gdWVJclWw5zH"
      },
      "source": [
        "import json\n",
        "js=json.dumps(records)"
      ],
      "execution_count": 177,
      "outputs": []
    },
    {
      "cell_type": "code",
      "metadata": {
        "id": "ae8h-mnrxIiN"
      },
      "source": [
        "fd=open(\"frecord.json\",\"w\")\n",
        "fd.write(js)\n",
        "fd.close()"
      ],
      "execution_count": 178,
      "outputs": []
    },
    {
      "cell_type": "code",
      "metadata": {
        "id": "KzVaWLX71JKp"
      },
      "source": [
        "sales={1:{\"product id\":prod_id,\"product name\":records[prod_id][\"name\"],\"quantity\":prod_quan,\"Total Bill Amount\":prod_quan*records[prod_id][\"price\"],\"time\":time.ctime()}} #use only for first transaction,after first transaction use next line"
      ],
      "execution_count": 80,
      "outputs": []
    },
    {
      "cell_type": "code",
      "metadata": {
        "id": "CKaMtX1t2Ojy"
      },
      "source": [
        "sales [len(sales)+1]={\"product id\":prod_id,\"product name\":records[prod_id][\"name\"],\"quantity\":prod_quan,\"Total Bill Amount\":prod_quan*records[prod_id][\"price\"],\"Time\":time.ctime()} #use all the time of transaction without first transaction don't use this line for first transaction otherwise it'll store the same data twice."
      ],
      "execution_count": 179,
      "outputs": []
    },
    {
      "cell_type": "code",
      "metadata": {
        "id": "IM42z_Dc3lUJ"
      },
      "source": [
        "import json\n",
        "sale=json.dumps(sales)\n",
        "                "
      ],
      "execution_count": 180,
      "outputs": []
    },
    {
      "cell_type": "code",
      "metadata": {
        "id": "oemikHh_3vdF"
      },
      "source": [
        "fd=open(\"fsale.json\",\"w\")\n",
        "fd.write(sale)\n",
        "fd.close()"
      ],
      "execution_count": 181,
      "outputs": []
    }
  ]
}
